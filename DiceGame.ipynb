{
 "cells": [
  {
   "cell_type": "markdown",
   "metadata": {},
   "source": [
    "Dice game\n",
    "\"\"\"Number Guess Game\"\"\""
   ]
  },
  {
   "cell_type": "code",
   "execution_count": 1,
   "metadata": {},
   "outputs": [],
   "source": [
    "from random import randint\n",
    "from time import sleep"
   ]
  },
  {
   "cell_type": "code",
   "execution_count": 8,
   "metadata": {},
   "outputs": [],
   "source": [
    "def get_user_guess():\n",
    "    guess=int(input(\"Enter your guess: \"))\n",
    "    return guess"
   ]
  },
  {
   "cell_type": "code",
   "execution_count": 11,
   "metadata": {},
   "outputs": [],
   "source": [
    "def roll_dice(number_of_sides):\n",
    "    first_roll=randint(1,number_of_sides)\n",
    "    second_roll=randint(1,number_of_sides)\n",
    "    max_val =number_of_sides*2\n",
    "    print (\"Max value that you can guess %s\" %max_val)\n",
    "    guess=get_user_guess()\n",
    "    if guess>max_val:\n",
    "        print (\"Please,guess again. Max value that you can guess %s\" %max_val)\n",
    "    else:\n",
    "        print (\"Rolling...\")\n",
    "        sleep(2)\n",
    "        print (\"The 1st roll is: %d \"%first_roll)\n",
    "        sleep(1)\n",
    "        print (\"The 2nd roll is: %d \"%second_roll)\n",
    "        sleep(1)\n",
    "        total_roll=first_roll+second_roll\n",
    "        print (\"Total 2 dice: %d\"%total_roll)\n",
    "        print (\"Result...\")\n",
    "        sleep(1)\n",
    "        if guess==total_roll:\n",
    "            print (\"You win\")\n",
    "        else:\n",
    "            print (\"You lose\")"
   ]
  },
  {
   "cell_type": "code",
   "execution_count": null,
   "metadata": {},
   "outputs": [],
   "source": [
    "sides=int(input(\"Enter sides: \"))\n",
    "roll_dice(sides)"
   ]
  },
  {
   "cell_type": "code",
   "execution_count": null,
   "metadata": {},
   "outputs": [],
   "source": []
  }
 ],
 "metadata": {
  "kernelspec": {
   "display_name": "Python 3",
   "language": "python",
   "name": "python3"
  },
  "language_info": {
   "codemirror_mode": {
    "name": "ipython",
    "version": 3
   },
   "file_extension": ".py",
   "mimetype": "text/x-python",
   "name": "python",
   "nbconvert_exporter": "python",
   "pygments_lexer": "ipython3",
   "version": "3.6.5"
  }
 },
 "nbformat": 4,
 "nbformat_minor": 2
}
